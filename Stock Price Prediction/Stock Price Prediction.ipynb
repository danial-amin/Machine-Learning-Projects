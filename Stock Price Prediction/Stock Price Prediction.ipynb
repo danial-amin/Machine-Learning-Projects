{
 "cells": [
  {
   "cell_type": "markdown",
   "metadata": {},
   "source": [
    "# Stock Price Prediction using Linear Regression\n",
    "## Danial Amin\n",
    "#### Data Scientist | Aerospace Engineer"
   ]
  },
  {
   "cell_type": "markdown",
   "metadata": {},
   "source": [
    "Predicting the stock market has been the bane and goal of investors since its inception. Every day billions of dollars are traded on the stock exchange, and behind every dollar is an investor hoping to make a profit in one way or another.\n",
    "\n",
    "Entire companies rise and fall daily depending on market behaviour. If an investor is able to accurately predict market movements, he offers a tantalizing promise of wealth and influence. \n"
   ]
  },
  {
   "cell_type": "markdown",
   "metadata": {},
   "source": [
    "#### Importing Libraries\n",
    "First step is loading all the required libraries in the notebook."
   ]
  },
  {
   "cell_type": "code",
   "execution_count": 10,
   "metadata": {},
   "outputs": [],
   "source": [
    "import numpy as np\n",
    "import pandas as pd\n",
    "from sklearn import preprocessing\n",
    "from sklearn.model_selection import train_test_split\n",
    "from sklearn.linear_model import LinearRegression\n",
    "import matplotlib.pyplot as plt"
   ]
  },
  {
   "cell_type": "markdown",
   "metadata": {},
   "source": [
    "#### Data Preparation\n",
    "In order to have a dataset prepared for the analysis, it is efficient to write a function which would perform the actions of data preparation on the dataset."
   ]
  },
  {
   "cell_type": "code",
   "execution_count": 3,
   "metadata": {},
   "outputs": [],
   "source": [
    "def prepare_data(df,forecast_col,forecast_out,test_size):\n",
    "    label = df[forecast_col].shift(-forecast_out) #creating new column called label with the last n rows are nan\n",
    "    X = np.array(df[[forecast_col]]) #creating the feature array\n",
    "    X = preprocessing.scale(X) #processing the feature array by scaling\n",
    "    X_lately = X[-forecast_out:] #creating the column to verify\n",
    "    X = X[:-forecast_out] # X that will contain the training and testing\n",
    "    label.dropna(inplace=True) #dropping na values\n",
    "    y = np.array(label)  # assigning Y\n",
    "    X_train, X_test, Y_train, Y_test = train_test_split(X, y, test_size=test_size, random_state=0) #cross validation\n",
    "    response = [X_train,X_test , Y_train, Y_test , X_lately]\n",
    "    return response"
   ]
  },
  {
   "cell_type": "markdown",
   "metadata": {},
   "source": [
    "#### Data Ingestion\n",
    "Download the historical data for the selected symbol and ingest its path here."
   ]
  },
  {
   "cell_type": "code",
   "execution_count": 28,
   "metadata": {},
   "outputs": [],
   "source": [
    "df = pd.read_csv(\"C:\\\\Users\\\\Danial Amin\\\\Downloads\\\\IXIC.csv\")\n",
    "forecast_col = 'Close' #name of the column for the data analysis\n",
    "forecast_out = 100 #How many values should it predict\n",
    "test_size = 0.2 #Size of test data set for cross validation"
   ]
  },
  {
   "cell_type": "markdown",
   "metadata": {},
   "source": [
    "#### Model Implimentation\n",
    "Now the data is converted into training and testing data and the machine learning model is implemented."
   ]
  },
  {
   "cell_type": "code",
   "execution_count": 29,
   "metadata": {},
   "outputs": [
    {
     "data": {
      "text/plain": [
       "LinearRegression()"
      ]
     },
     "execution_count": 29,
     "metadata": {},
     "output_type": "execute_result"
    }
   ],
   "source": [
    "X_train, X_test, Y_train, Y_test , X_lately =prepare_data(df,forecast_col,forecast_out,test_size); #calling the method were the cross validation and data preperation is in\n",
    "learner = LinearRegression() #initializing linear regression model\n",
    "\n",
    "learner.fit(X_train,Y_train) #training the linear regression model"
   ]
  },
  {
   "cell_type": "code",
   "execution_count": 31,
   "metadata": {},
   "outputs": [
    {
     "name": "stdout",
     "output_type": "stream",
     "text": [
      "0.9806681276991362\n",
      "[15213.25925538 15247.50622703 15117.26354139 15043.85792381\n",
      " 14759.59936541 14704.09923988 14758.88208497 14888.61439731\n",
      " 14507.91553786 14494.409227   14105.70250048 14207.08736948\n",
      " 14538.46893724 14483.13115476 14401.19562639 14396.95878935\n",
      " 14653.3802777  14583.02734817 14789.66361364 14785.31748672\n",
      " 14873.14193123 14871.27339327 14884.81153626 14871.49091258\n",
      " 14893.05814259 14738.9658736  14956.25099752 15029.29797488\n",
      " 15076.22574643 15061.92681936 15179.90251939 15233.24019253\n",
      " 15347.02149762 15236.97832889 15200.92648462 15333.12471441\n",
      " 15190.82195141 15311.53626335 15432.99862631 15453.05702122\n",
      " 15559.5148482  15549.38803239 15701.63298665 15731.86063838\n",
      " 15705.37112192 15725.39556271 15852.46566044 15878.8787796\n",
      " 15880.42156991 15766.03227317 15920.47151194 15954.50202473\n",
      " 15894.10189643 15858.57209589 15747.94109612 15622.02331526\n",
      " 15456.58824934 15699.86206705 15844.4471834  15901.65244229\n",
      " 16067.22969175 16071.27129317 15875.55445971 15986.3806962\n",
      " 16003.41717474 15888.7010699  15897.8177502  15984.9790279\n",
      " 16005.88415264 16130.38965411 16065.89274923 16092.42576933\n",
      " 16014.09786639 15989.16175022 16044.70538049 16051.92063026\n",
      " 16020.25841656 15870.77329635 15729.23131634 15746.4853131\n",
      " 15934.31418044 16182.03280496 16265.85809125 16289.82757555\n",
      " 16185.46535319 16385.05083393 16533.24251417 16526.01771487\n",
      " 16580.49603446 16604.1822143  16639.32047987 16651.06648221\n",
      " 16555.78804757 16514.07647691 16369.82877864 16359.06107969\n",
      " 16285.37215875 16419.85274188 16442.00674249 16292.11947842]\n"
     ]
    },
    {
     "data": {
      "text/plain": [
       "[<matplotlib.lines.Line2D at 0x12a1a6859d0>]"
      ]
     },
     "execution_count": 31,
     "metadata": {},
     "output_type": "execute_result"
    },
    {
     "data": {
      "image/png": "[encoded data removed]",
      "text/plain": [
       "<Figure size 432x288 with 1 Axes>"
      ]
     },
     "metadata": {
      "needs_background": "light"
     },
     "output_type": "display_data"
    }
   ],
   "source": [
    "score=learner.score(X_test,Y_test)#testing the linear regression model\n",
    "forecast= learner.predict(X_lately) #set that will contain the forecasted data\n",
    "print(score)\n",
    "print(forecast)\n",
    "fig, ax = plt.subplots()\n",
    "ax.plot(df[\"Close\"][-200:-1])\n",
    "ax.plot(np.transpose([range(len(df)-1,len(df)+forecast_out-1)]),forecast,'-*b')"
   ]
  }
 ],
 "metadata": {
  "kernelspec": {
   "display_name": "Python 3",
   "language": "python",
   "name": "python3"
  },
  "language_info": {
   "codemirror_mode": {
    "name": "ipython",
    "version": 3
   },
   "file_extension": ".py",
   "mimetype": "text/x-python",
   "name": "python",
   "nbconvert_exporter": "python",
   "pygments_lexer": "ipython3",
   "version": "3.8.3"
  }
 },
 "nbformat": 4,
 "nbformat_minor": 4
}
